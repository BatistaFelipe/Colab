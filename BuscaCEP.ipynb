{
  "nbformat": 4,
  "nbformat_minor": 0,
  "metadata": {
    "colab": {
      "provenance": [],
      "authorship_tag": "ABX9TyPMBFCXtxGcYe40dSjR06w8",
      "include_colab_link": true
    },
    "kernelspec": {
      "name": "python3",
      "display_name": "Python 3"
    },
    "language_info": {
      "name": "python"
    }
  },
  "cells": [
    {
      "cell_type": "markdown",
      "metadata": {
        "id": "view-in-github",
        "colab_type": "text"
      },
      "source": [
        "<a href=\"https://colab.research.google.com/github/BatistaFelipe/Colab/blob/main/BuscaCEP.ipynb\" target=\"_parent\"><img src=\"https://colab.research.google.com/assets/colab-badge.svg\" alt=\"Open In Colab\"/></a>"
      ]
    },
    {
      "cell_type": "markdown",
      "source": [
        "Importa as bibliotecas necessárias"
      ],
      "metadata": {
        "id": "5QkbpJNe9c40"
      }
    },
    {
      "cell_type": "code",
      "source": [
        "import pandas as pd\n",
        "import requests"
      ],
      "metadata": {
        "id": "IMRRFPWTo_ZV"
      },
      "execution_count": 119,
      "outputs": []
    },
    {
      "cell_type": "markdown",
      "source": [
        "Importa o arquivo csv"
      ],
      "metadata": {
        "id": "HriIcUeL9kWD"
      }
    },
    {
      "cell_type": "code",
      "source": [
        "df = pd.read_csv('/content/modelo-clientes.csv', sep=';')"
      ],
      "metadata": {
        "id": "2faw_YKMpSa9"
      },
      "execution_count": 120,
      "outputs": []
    },
    {
      "cell_type": "markdown",
      "source": [
        "Função para buscar o cep através da api viacep"
      ],
      "metadata": {
        "id": "fYzDykbt90GL"
      }
    },
    {
      "cell_type": "code",
      "execution_count": 100,
      "metadata": {
        "id": "MldrEN3WowDY"
      },
      "outputs": [],
      "source": [
        "def buscar_cep_por_endereco(logradouro, cidade, estado):\n",
        "    url = f'https://viacep.com.br/ws/{estado}/{cidade}/{logradouro}/json/'\n",
        "    try:\n",
        "        response = requests.get(url)\n",
        "        data = response.json()\n",
        "        if data:\n",
        "            return data[0]['cep']\n",
        "        else:\n",
        "            return None  # Endereço não encontrado\n",
        "    except requests.exceptions.RequestException as e:\n",
        "        print(\"Erro ao fazer a requisição:\", e)\n",
        "        return None"
      ]
    },
    {
      "cell_type": "markdown",
      "source": [
        "Looping que percorre o dataframe e cria uma series com todos os ceps dos endereços"
      ],
      "metadata": {
        "id": "Zb8rn3rd94rr"
      }
    },
    {
      "cell_type": "code",
      "source": [
        "cep_list = {}\n",
        "for index, row in df.iterrows():\n",
        "    cep = buscar_cep_por_endereco(row['Rua'], row['Cidade'], row['Estado'])\n",
        "    cep_list[index] = cep\n",
        "cep = pd.Series(data=cep_list)"
      ],
      "metadata": {
        "id": "DU_ht8gu04ik"
      },
      "execution_count": 112,
      "outputs": []
    },
    {
      "cell_type": "markdown",
      "source": [
        "Concatena o dataframe com a series de ceps"
      ],
      "metadata": {
        "id": "J-rY2SCg-Frq"
      }
    },
    {
      "cell_type": "code",
      "source": [
        "df = pd.concat([df,cep], axis=1)"
      ],
      "metadata": {
        "id": "aZKUzaxW6708"
      },
      "execution_count": 124,
      "outputs": []
    },
    {
      "cell_type": "markdown",
      "source": [
        "Exporta para um novo arquivo csv"
      ],
      "metadata": {
        "id": "7lCw2D9v-KY7"
      }
    },
    {
      "cell_type": "code",
      "source": [
        "df.to_csv('/content/clientes-com-cep.csv')"
      ],
      "metadata": {
        "id": "Q0ajggAk7lrj"
      },
      "execution_count": 126,
      "outputs": []
    }
  ]
}